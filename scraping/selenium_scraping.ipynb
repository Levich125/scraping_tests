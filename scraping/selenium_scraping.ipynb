{
 "cells": [
  {
   "cell_type": "markdown",
   "metadata": {},
   "source": [
    "# Experiment with scraping info using Selenium"
   ]
  },
  {
   "cell_type": "code",
   "execution_count": 1,
   "metadata": {},
   "outputs": [
    {
     "data": {
      "text/plain": [
       "'3.7.3 (default, Apr  3 2019, 19:16:38) \\n[GCC 8.0.1 20180414 (experimental) [trunk revision 259383]]'"
      ]
     },
     "execution_count": 1,
     "metadata": {},
     "output_type": "execute_result"
    }
   ],
   "source": [
    "import sys\n",
    "sys.version"
   ]
  },
  {
   "cell_type": "code",
   "execution_count": 2,
   "metadata": {},
   "outputs": [],
   "source": [
    "from requests import get\n",
    "from bs4 import BeautifulSoup"
   ]
  },
  {
   "cell_type": "code",
   "execution_count": 3,
   "metadata": {},
   "outputs": [],
   "source": [
    "url = \"https://www.jpsny.org/domain/1083\"  # the objective is to get list of emails of all the people here\n",
    "response = get(url).text"
   ]
  },
  {
   "cell_type": "code",
   "execution_count": 4,
   "metadata": {},
   "outputs": [
    {
     "data": {
      "text/plain": [
       "[]"
      ]
     },
     "execution_count": 4,
     "metadata": {},
     "output_type": "execute_result"
    }
   ],
   "source": [
    "soup = BeautifulSoup(response)\n",
    "soup.find_all('a', {'class': 'bb-icon-ultra-mail'})"
   ]
  },
  {
   "cell_type": "code",
   "execution_count": 5,
   "metadata": {
    "scrolled": false
   },
   "outputs": [
    {
     "data": {
      "text/plain": [
       "[('<a  class=bb-icon-ultra-mail href=\"mailto:', \"' + encodedEmail + '\", '\"'),\n",
       " ('<a  class=bb-icon-ultra-mail href=\"mailto:', \"' + encodedEmail + '\", '\"'),\n",
       " ('<a  class=bb-icon-ultra-mail href=\"mailto:', \"' + encodedEmail + '\", '\"'),\n",
       " ('<a  class=bb-icon-ultra-mail href=\"mailto:', \"' + encodedEmail + '\", '\"'),\n",
       " ('<a  class=bb-icon-ultra-mail href=\"mailto:', \"' + encodedEmail + '\", '\"'),\n",
       " ('<a  class=bb-icon-ultra-mail href=\"mailto:', \"' + encodedEmail + '\", '\"'),\n",
       " ('<a  class=bb-icon-ultra-mail href=\"mailto:', \"' + encodedEmail + '\", '\"'),\n",
       " ('<a  class=bb-icon-ultra-mail href=\"mailto:', \"' + encodedEmail + '\", '\"'),\n",
       " ('<a  class=bb-icon-ultra-mail href=\"mailto:', \"' + encodedEmail + '\", '\"'),\n",
       " ('<a  class=bb-icon-ultra-mail href=\"mailto:', \"' + encodedEmail + '\", '\"'),\n",
       " ('<a  class=bb-icon-ultra-mail href=\"mailto:', \"' + encodedEmail + '\", '\"'),\n",
       " ('<a  class=bb-icon-ultra-mail href=\"mailto:', \"' + encodedEmail + '\", '\"'),\n",
       " ('<a  class=bb-icon-ultra-mail href=\"mailto:', \"' + encodedEmail + '\", '\"'),\n",
       " ('<a  class=bb-icon-ultra-mail href=\"mailto:', \"' + encodedEmail + '\", '\"'),\n",
       " ('<a  class=bb-icon-ultra-mail href=\"mailto:', \"' + encodedEmail + '\", '\"'),\n",
       " ('<a  class=bb-icon-ultra-mail href=\"mailto:', \"' + encodedEmail + '\", '\"'),\n",
       " ('<a  class=bb-icon-ultra-mail href=\"mailto:', \"' + encodedEmail + '\", '\"'),\n",
       " ('<a  class=bb-icon-ultra-mail href=\"mailto:', \"' + encodedEmail + '\", '\"'),\n",
       " ('<a  class=bb-icon-ultra-mail href=\"mailto:', \"' + encodedEmail + '\", '\"'),\n",
       " ('<a  class=bb-icon-ultra-mail href=\"mailto:', \"' + encodedEmail + '\", '\"')]"
      ]
     },
     "execution_count": 5,
     "metadata": {},
     "output_type": "execute_result"
    }
   ],
   "source": [
    "import re\n",
    "regex = re.compile(r\"(<a  class=bb-icon-ultra-mail href=\\\"mailto:)(.+?)(\\\")\")\n",
    "regex.findall(response)"
   ]
  },
  {
   "cell_type": "markdown",
   "metadata": {},
   "source": [
    "It turns that emails are encoded in some way. So, selenium is needed"
   ]
  },
  {
   "cell_type": "code",
   "execution_count": 6,
   "metadata": {},
   "outputs": [],
   "source": [
    "# webdriver is downloaded from https://github.com/mozilla/geckodriver/releases\n",
    "# tar -xvzf geckodriver*; chmod +x geckodriver; sudo mv geckodriver /usr/local/bin/\n",
    "from selenium import webdriver\n",
    "from time import sleep\n",
    "browser = webdriver.Firefox()"
   ]
  },
  {
   "cell_type": "code",
   "execution_count": 7,
   "metadata": {
    "scrolled": true
   },
   "outputs": [
    {
     "name": "stdout",
     "output_type": "stream",
     "text": [
      "1 20 kristin.e.alexander@jpsny.org kim.j.austin@jpsny.org\n",
      "['1', '2', '3', '4', '5', '6', '7', '8', '9', '10', '...', '']\n",
      "2 20 christine.m.baglia@jpsny.org wendy.f.broderick@jpsny.org\n",
      "['1', '2', '3', '4', '5', '6', '7', '8', '9', '10', '...', '']\n",
      "3 20 alicia.d.brown@jpsny.org sally.a.cammarata@jpsny.org\n",
      "['1', '2', '3', '4', '5', '6', '7', '8', '9', '10', '...', '']\n",
      "4 20 linda.d.campbell@jpsny.org lisa.a.stahlman-colby@jpsny.org\n",
      "['1', '2', '3', '4', '5', '6', '7', '8', '9', '10', '...', '']\n",
      "5 20 christopher.j.collins@jpsny.org patrick.w.cunningham@jpsny.org\n",
      "['1', '2', '3', '4', '5', '6', '7', '8', '9', '10', '...', '']\n",
      "6 20 tina.m.currie@jpsny.org david.j.dix@jpsny.org\n",
      "['1', '2', '3', '4', '5', '6', '7', '8', '9', '10', '...', '']\n",
      "7 20 jessica.m.dockwiller@jpsny.org connie.l.foster@jpsny.org\n",
      "['1', '2', '3', '4', '5', '6', '7', '8', '9', '10', '...', '']\n",
      "8 20 douglas.a.foster@jpsny.org meagan.s.genco@jpsny.org\n",
      "['1', '2', '3', '4', '5', '6', '7', '8', '9', '10', '...', '']\n",
      "9 20 amanda.j.gesing@jpsny.org elizabeth.a.harris@jpsny.org\n",
      "['1', '2', '3', '4', '5', '6', '7', '8', '9', '10', '...', '']\n",
      "10 20 renee.j.hartling@jpsny.org jack.n.iacuzzo@jpsny.org\n",
      "['1', '2', '3', '4', '5', '6', '7', '8', '9', '10', '...', '']\n",
      "11 20 julie.m.irons@jpsny.org jason.d.kathman@jpsny.org\n",
      "['', '...', '11', '12', '13', '14', '15', '16', '17', '18', '19', '20', '...', '']\n",
      "12 20 kimberly.r.kennedy@jpsny.org brenda.m.latimer@jpsny.org\n",
      "['', '...', '11', '12', '13', '14', '15', '16', '17', '18', '19', '20', '...', '']\n",
      "13 20 monte.g.lawson@jpsny.org kelly.r.madden@jpsny.org\n",
      "['', '...', '11', '12', '13', '14', '15', '16', '17', '18', '19', '20', '...', '']\n",
      "14 20 christopher.m.maggio@jpsny.org lynn.mayer@jpsny.org\n",
      "['', '...', '11', '12', '13', '14', '15', '16', '17', '18', '19', '20', '...', '']\n",
      "15 20 lori.a.mazzurco@jpsny.org annette.r.miller@jpsny.org\n",
      "['', '...', '11', '12', '13', '14', '15', '16', '17', '18', '19', '20', '...', '']\n",
      "16 20 autumn.m.miller@jpsny.org pnordine@jpsny.org\n",
      "['', '...', '11', '12', '13', '14', '15', '16', '17', '18', '19', '20', '...', '']\n",
      "17 20 tammy.s.nordwall@jpsny.org elizabeth.l.pardue@jpsny.org\n",
      "['', '...', '11', '12', '13', '14', '15', '16', '17', '18', '19', '20', '...', '']\n",
      "18 20 daiman.d.parinella@jpsny.org betsy.a.pope@jpsny.org\n",
      "['', '...', '11', '12', '13', '14', '15', '16', '17', '18', '19', '20', '...', '']\n",
      "19 20 denise.a.powers@jpsny.org martin.i.rich@jpsny.org\n",
      "['', '...', '11', '12', '13', '14', '15', '16', '17', '18', '19', '20', '...', '']\n",
      "20 20 ken.r.ricker@jpsny.org renee.m.salamone@jpsny.org\n",
      "['', '...', '11', '12', '13', '14', '15', '16', '17', '18', '19', '20', '...', '']\n",
      "21 20 joseph.m.salvaggio@jpsny.org durrin.see@jpsny.org\n",
      "['', '...', '21', '22', '23', '24', '25', '26']\n",
      "22 20 james.l.sharpe@jpsny.org eric.w.sohl@jpsny.org\n",
      "['', '...', '21', '22', '23', '24', '25', '26']\n",
      "23 20 joel.k.sopak@jpsny.org anastasia.m.swanson@jpsny.org\n",
      "['', '...', '21', '22', '23', '24', '25', '26']\n",
      "24 20 anastasia.m.swanson@jpsny.org john.s.twinam@jpsny.org\n",
      "['', '...', '21', '22', '23', '24', '25', '26']\n",
      "25 20 scott.a.vanstee@jpsny.org autumn.l.wright@jpsny.org\n",
      "['', '...', '21', '22', '23', '24', '25', '26']\n",
      "26 8 thomas.s.wright@jpsny.org katie.j.zwald@jpsny.org\n",
      "['', '...', '21', '22', '23', '24', '25', '26']\n"
     ]
    }
   ],
   "source": [
    "mails = []\n",
    "\n",
    "browser.get(url)\n",
    "page = 1\n",
    "while 1:  # will collect data while the pages are present\n",
    "    mail_infos = browser.find_elements_by_class_name('bb-icon-ultra-mail')\n",
    "    print(page, len(mail_infos), mail_infos[0].text, mail_infos[-1].text)\n",
    "    for i in mail_infos:\n",
    "        mails.append(i.text)\n",
    "    \n",
    "    page_nums = [x.text for x in browser.find_elements_by_class_name('ui-page-number')]\n",
    "    print(page_nums)\n",
    "    \n",
    "    page += 1\n",
    "    next_page = str(page)\n",
    "    if not next_page in page_nums:  # '...' can be the next page, but only if it is to the right of the digits\n",
    "        if page_nums[-2] == '...':  # page_nums[-1] is ''\n",
    "            next_page = '...'\n",
    "        else:\n",
    "            break  # no '...' to the right of page nums and no next page with required next number. We are done here\n",
    "    \n",
    "    \n",
    "        \n",
    "    nextpage = [x for x in browser.find_elements_by_class_name('ui-page-number') if x.text == next_page][-1]\n",
    "    nextpage.click()\n",
    "    \n",
    "    sleep(2)  # will give the page some time to load"
   ]
  },
  {
   "cell_type": "code",
   "execution_count": 8,
   "metadata": {},
   "outputs": [
    {
     "data": {
      "text/plain": [
       "508"
      ]
     },
     "execution_count": 8,
     "metadata": {},
     "output_type": "execute_result"
    }
   ],
   "source": [
    "len(mails)"
   ]
  },
  {
   "cell_type": "markdown",
   "metadata": {},
   "source": [
    "Nice"
   ]
  },
  {
   "cell_type": "code",
   "execution_count": 9,
   "metadata": {},
   "outputs": [
    {
     "data": {
      "text/plain": [
       "500"
      ]
     },
     "execution_count": 9,
     "metadata": {},
     "output_type": "execute_result"
    }
   ],
   "source": [
    "len(set(mails))"
   ]
  },
  {
   "cell_type": "markdown",
   "metadata": {},
   "source": [
    "Not nice. Why?"
   ]
  },
  {
   "cell_type": "code",
   "execution_count": 10,
   "metadata": {},
   "outputs": [
    {
     "data": {
      "text/plain": [
       "[('catherine.s.crasti@jpsny.org', 2),\n",
       " ('katherine.e.derrenbacher@jpsny.org', 2),\n",
       " ('erin.e.leone@jpsny.org', 2),\n",
       " ('shawn.a.reed@jpsny.org', 2),\n",
       " ('amy.a.schultze@jpsny.org', 2),\n",
       " ('anastasia.m.swanson@jpsny.org', 2),\n",
       " ('jennie.m.vaughn@jpsny.org', 2),\n",
       " ('rebecca.l.whitman@jpsny.org', 2)]"
      ]
     },
     "execution_count": 10,
     "metadata": {},
     "output_type": "execute_result"
    }
   ],
   "source": [
    "from collections import Counter\n",
    "[x for x in Counter(mails).items() if x[1] != 1]"
   ]
  },
  {
   "cell_type": "markdown",
   "metadata": {},
   "source": [
    "Ok, some urls are duplicated. Not more than 2, but still strange."
   ]
  },
  {
   "cell_type": "code",
   "execution_count": null,
   "metadata": {},
   "outputs": [],
   "source": []
  }
 ],
 "metadata": {
  "kernelspec": {
   "display_name": "scraping",
   "language": "python",
   "name": "scraping"
  },
  "language_info": {
   "codemirror_mode": {
    "name": "ipython",
    "version": 3
   },
   "file_extension": ".py",
   "mimetype": "text/x-python",
   "name": "python",
   "nbconvert_exporter": "python",
   "pygments_lexer": "ipython3",
   "version": "3.7.3"
  }
 },
 "nbformat": 4,
 "nbformat_minor": 2
}
